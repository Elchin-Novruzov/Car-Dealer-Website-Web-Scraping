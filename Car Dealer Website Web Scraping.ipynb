{
 "cells": [
  {
   "cell_type": "markdown",
   "id": "83ca0d15",
   "metadata": {},
   "source": [
    "# Car Dealer Website Web Scraping Project\n",
    "\n",
    "### Link for website: https://cars.com"
   ]
  },
  {
   "cell_type": "markdown",
   "id": "ddab73ad",
   "metadata": {},
   "source": [
    "### Importing libraries and making a get request"
   ]
  },
  {
   "cell_type": "code",
   "execution_count": 1,
   "id": "9b41ac63",
   "metadata": {},
   "outputs": [],
   "source": [
    "import requests \n",
    "from bs4 import BeautifulSoup\n",
    "import pandas as pd"
   ]
  },
  {
   "cell_type": "code",
   "execution_count": 2,
   "id": "425ed4a6",
   "metadata": {},
   "outputs": [
    {
     "data": {
      "text/plain": [
       "200"
      ]
     },
     "execution_count": 2,
     "metadata": {},
     "output_type": "execute_result"
    }
   ],
   "source": [
    "website = 'https://www.cars.com/shopping/results/?stock_type=all&makes%5B%5D=dodge&models%5B%5D=&list_price_max=&maximum_distance=20&zip='\n",
    "\n",
    "response = requests.get(website)\n",
    "response.status_code"
   ]
  },
  {
   "cell_type": "code",
   "execution_count": 3,
   "id": "39efa140",
   "metadata": {},
   "outputs": [],
   "source": [
    "# Creating a soup object\n",
    "\n",
    "soup = BeautifulSoup(response.content, 'html.parser')"
   ]
  },
  {
   "cell_type": "code",
   "execution_count": 4,
   "id": "6c202e83",
   "metadata": {},
   "outputs": [],
   "source": [
    "results = soup.find_all('div', {'class':'vehicle-card'})"
   ]
  },
  {
   "cell_type": "code",
   "execution_count": 5,
   "id": "e5c81a77",
   "metadata": {},
   "outputs": [
    {
     "data": {
      "text/plain": [
       "19"
      ]
     },
     "execution_count": 5,
     "metadata": {},
     "output_type": "execute_result"
    }
   ],
   "source": [
    "len(results)"
   ]
  },
  {
   "cell_type": "markdown",
   "id": "653ed9a0",
   "metadata": {},
   "source": [
    "## Target Data\n",
    "* Name\n",
    "* Year\n",
    "* Mileage\n",
    "* Rating\n",
    "* Review count\n",
    "* Price\n",
    "* Dealer name"
   ]
  },
  {
   "cell_type": "markdown",
   "id": "cde87658",
   "metadata": {},
   "source": [
    "### Getting target data of one car"
   ]
  },
  {
   "cell_type": "code",
   "execution_count": 7,
   "id": "03d67716",
   "metadata": {},
   "outputs": [
    {
     "data": {
      "text/plain": [
       "'Dodge Challenger R/T Scat Pack'"
      ]
     },
     "execution_count": 7,
     "metadata": {},
     "output_type": "execute_result"
    }
   ],
   "source": [
    "# Name\n",
    "results[0].find('h2').get_text()[5:]"
   ]
  },
  {
   "cell_type": "code",
   "execution_count": 8,
   "id": "8e6b5ed6",
   "metadata": {},
   "outputs": [
    {
     "data": {
      "text/plain": [
       "'2020'"
      ]
     },
     "execution_count": 8,
     "metadata": {},
     "output_type": "execute_result"
    }
   ],
   "source": [
    "# Year\n",
    "results[0].find('h2').get_text()[:4]"
   ]
  },
  {
   "cell_type": "code",
   "execution_count": 9,
   "id": "5a6fb2e6",
   "metadata": {},
   "outputs": [
    {
     "data": {
      "text/plain": [
       "'2,553 mi.'"
      ]
     },
     "execution_count": 9,
     "metadata": {},
     "output_type": "execute_result"
    }
   ],
   "source": [
    "# Mileage\n",
    "results[0].find('div', {'class':'mileage'}).get_text()"
   ]
  },
  {
   "cell_type": "code",
   "execution_count": 10,
   "id": "1f114e81",
   "metadata": {},
   "outputs": [
    {
     "data": {
      "text/plain": [
       "'4.8'"
      ]
     },
     "execution_count": 10,
     "metadata": {},
     "output_type": "execute_result"
    }
   ],
   "source": [
    "# Rating\n",
    "results[0].find('span', {'class':'sds-rating__count'}).get_text()"
   ]
  },
  {
   "cell_type": "code",
   "execution_count": 11,
   "id": "be5488eb",
   "metadata": {},
   "outputs": [
    {
     "data": {
      "text/plain": [
       "'(532 reviews)'"
      ]
     },
     "execution_count": 11,
     "metadata": {},
     "output_type": "execute_result"
    }
   ],
   "source": [
    "# Reviews count\n",
    "results[0].find('span', {'class':'sds-rating__link'}).get_text()"
   ]
  },
  {
   "cell_type": "code",
   "execution_count": 12,
   "id": "72b0cb6c",
   "metadata": {},
   "outputs": [
    {
     "data": {
      "text/plain": [
       "'$50,987'"
      ]
     },
     "execution_count": 12,
     "metadata": {},
     "output_type": "execute_result"
    }
   ],
   "source": [
    "# Price\n",
    "results[0].find('span', {'class':'primary-price'}).get_text()"
   ]
  },
  {
   "cell_type": "code",
   "execution_count": 13,
   "id": "2c9aa7b1",
   "metadata": {},
   "outputs": [
    {
     "data": {
      "text/plain": [
       "'Bolles Motors'"
      ]
     },
     "execution_count": 13,
     "metadata": {},
     "output_type": "execute_result"
    }
   ],
   "source": [
    "# Dealer name\n",
    "results[0].find('div', {'class':'dealer-name'}).get_text().replace('\\n', \"\")"
   ]
  },
  {
   "cell_type": "markdown",
   "id": "0abd6e48",
   "metadata": {},
   "source": [
    "## Putting everything inside a for-loop"
   ]
  },
  {
   "cell_type": "code",
   "execution_count": 14,
   "id": "5de8e5d3",
   "metadata": {},
   "outputs": [],
   "source": [
    "name = []\n",
    "year = []\n",
    "mileage = []\n",
    "price = []\n",
    "rating = []\n",
    "reviews_count = []\n",
    "dealer = []\n",
    "\n",
    "for result in results:\n",
    "    # name\n",
    "    try:\n",
    "        name.append(result.find('h2').get_text()[5:])\n",
    "    except:\n",
    "        name.append(None)\n",
    "        \n",
    "    # year\n",
    "    try:\n",
    "        year.append(result.find('h2').get_text()[:4])\n",
    "    except:\n",
    "        year.append(None)\n",
    "           \n",
    "    # mileage\n",
    "    try:\n",
    "        mileage.append(result.find('div', {'class':'mileage'}).get_text())\n",
    "    except:\n",
    "        mileage.append(None)\n",
    "        \n",
    "    # price\n",
    "    try:\n",
    "        price.append(result.find('span', {'class':'primary-price'}).get_text())\n",
    "    except:\n",
    "        price.append(None)\n",
    "        \n",
    "    # rating\n",
    "    try:\n",
    "        rating.append(result.find('span', {'class':'sds-rating__count'}).get_text()) \n",
    "    except:\n",
    "        rating.append(None)\n",
    "        \n",
    "    # reviews count\n",
    "    try:\n",
    "        reviews_count.append(result.find('span', {'class':'sds-rating__link'}).get_text().replace('(',\"\").replace(' reviews)',\"\"))\n",
    "    except:\n",
    "        reviews_count.append(None)\n",
    "        \n",
    "    # dealer name\n",
    "    try:\n",
    "        dealer.append(result.find('div', {'class':'dealer-name'}).get_text().replace('\\n', \"\"))\n",
    "    except:\n",
    "        dealer.append(None)"
   ]
  },
  {
   "cell_type": "code",
   "execution_count": 15,
   "id": "40efa114",
   "metadata": {},
   "outputs": [
    {
     "data": {
      "text/plain": [
       "['Dodge Challenger R/T Scat Pack',\n",
       " 'Dodge Charger SXT',\n",
       " 'Dodge Challenger SXT',\n",
       " 'Dodge Charger SRT 392',\n",
       " 'Dodge Charger Scat Pack',\n",
       " 'Dodge Durango GT',\n",
       " 'Dodge Durango GT',\n",
       " 'Dodge Durango R/T',\n",
       " 'Dodge Durango R/T',\n",
       " 'Dodge Challenger R/T Scat Pack',\n",
       " 'Dodge Charger R/T',\n",
       " 'Dodge Durango R/T',\n",
       " 'Dodge Durango Limited',\n",
       " 'Dodge Journey SXT',\n",
       " 'Dodge Challenger SRT Hellcat',\n",
       " 'Dodge Challenger R/T',\n",
       " 'Dodge Charger Scat Pack',\n",
       " 'Dodge Charger SRT Hellcat',\n",
       " 'Dodge Challenger SXT']"
      ]
     },
     "execution_count": 15,
     "metadata": {},
     "output_type": "execute_result"
    }
   ],
   "source": [
    "name"
   ]
  },
  {
   "cell_type": "markdown",
   "id": "05d5bad1",
   "metadata": {},
   "source": [
    "### First page of the website was scraped, now let's insert the data into a dataframe."
   ]
  },
  {
   "cell_type": "code",
   "execution_count": 16,
   "id": "e88caa88",
   "metadata": {},
   "outputs": [
    {
     "data": {
      "text/html": [
       "<div>\n",
       "<style scoped>\n",
       "    .dataframe tbody tr th:only-of-type {\n",
       "        vertical-align: middle;\n",
       "    }\n",
       "\n",
       "    .dataframe tbody tr th {\n",
       "        vertical-align: top;\n",
       "    }\n",
       "\n",
       "    .dataframe thead th {\n",
       "        text-align: right;\n",
       "    }\n",
       "</style>\n",
       "<table border=\"1\" class=\"dataframe\">\n",
       "  <thead>\n",
       "    <tr style=\"text-align: right;\">\n",
       "      <th></th>\n",
       "      <th>Name</th>\n",
       "      <th>Year</th>\n",
       "      <th>Mileage</th>\n",
       "      <th>Price</th>\n",
       "      <th>Rating</th>\n",
       "      <th>Reviews Count</th>\n",
       "      <th>Car Dealer</th>\n",
       "    </tr>\n",
       "  </thead>\n",
       "  <tbody>\n",
       "    <tr>\n",
       "      <th>0</th>\n",
       "      <td>Dodge Challenger R/T Scat Pack</td>\n",
       "      <td>2020</td>\n",
       "      <td>2,553 mi.</td>\n",
       "      <td>$50,987</td>\n",
       "      <td>4.8</td>\n",
       "      <td>532</td>\n",
       "      <td>Bolles Motors</td>\n",
       "    </tr>\n",
       "    <tr>\n",
       "      <th>1</th>\n",
       "      <td>Dodge Charger SXT</td>\n",
       "      <td>2016</td>\n",
       "      <td>134,734 mi.</td>\n",
       "      <td>$16,493</td>\n",
       "      <td>3.9</td>\n",
       "      <td>121</td>\n",
       "      <td>AutoNation USA Houston</td>\n",
       "    </tr>\n",
       "    <tr>\n",
       "      <th>2</th>\n",
       "      <td>Dodge Challenger SXT</td>\n",
       "      <td>2019</td>\n",
       "      <td>32,977 mi.</td>\n",
       "      <td>$25,000</td>\n",
       "      <td>4.6</td>\n",
       "      <td>284</td>\n",
       "      <td>AutoSavvy Las Vegas</td>\n",
       "    </tr>\n",
       "    <tr>\n",
       "      <th>3</th>\n",
       "      <td>Dodge Charger SRT 392</td>\n",
       "      <td>2018</td>\n",
       "      <td>34,171 mi.</td>\n",
       "      <td>$49,990</td>\n",
       "      <td>4.2</td>\n",
       "      <td>8,995</td>\n",
       "      <td>Carvana-Touchless Delivery To Your Home</td>\n",
       "    </tr>\n",
       "    <tr>\n",
       "      <th>4</th>\n",
       "      <td>Dodge Charger Scat Pack</td>\n",
       "      <td>2020</td>\n",
       "      <td>34,880 mi.</td>\n",
       "      <td>$49,999</td>\n",
       "      <td>4.7</td>\n",
       "      <td>306</td>\n",
       "      <td>Apollo Auto Sales</td>\n",
       "    </tr>\n",
       "    <tr>\n",
       "      <th>5</th>\n",
       "      <td>Dodge Durango GT</td>\n",
       "      <td>2018</td>\n",
       "      <td>32,733 mi.</td>\n",
       "      <td>$38,662</td>\n",
       "      <td>4.5</td>\n",
       "      <td>138</td>\n",
       "      <td>Fitzgerald Chrysler Dodge Jeep RAM Hagerstown</td>\n",
       "    </tr>\n",
       "    <tr>\n",
       "      <th>6</th>\n",
       "      <td>Dodge Durango GT</td>\n",
       "      <td>2018</td>\n",
       "      <td>61,902 mi.</td>\n",
       "      <td>$35,490</td>\n",
       "      <td>4.8</td>\n",
       "      <td>3,300</td>\n",
       "      <td>Champion Chevrolet of Avon</td>\n",
       "    </tr>\n",
       "    <tr>\n",
       "      <th>7</th>\n",
       "      <td>Dodge Durango R/T</td>\n",
       "      <td>2021</td>\n",
       "      <td>14,238 mi.</td>\n",
       "      <td>$51,995</td>\n",
       "      <td>4.9</td>\n",
       "      <td>359</td>\n",
       "      <td>AMG Auto Route 35</td>\n",
       "    </tr>\n",
       "    <tr>\n",
       "      <th>8</th>\n",
       "      <td>Dodge Durango R/T</td>\n",
       "      <td>2021</td>\n",
       "      <td>15,672 mi.</td>\n",
       "      <td>$50,995</td>\n",
       "      <td>4.9</td>\n",
       "      <td>359</td>\n",
       "      <td>AMG Auto Route 35</td>\n",
       "    </tr>\n",
       "    <tr>\n",
       "      <th>9</th>\n",
       "      <td>Dodge Challenger R/T Scat Pack</td>\n",
       "      <td>2019</td>\n",
       "      <td>27,663 mi.</td>\n",
       "      <td>$46,964</td>\n",
       "      <td>4.5</td>\n",
       "      <td>111</td>\n",
       "      <td>Ron Tonkin Mazda</td>\n",
       "    </tr>\n",
       "    <tr>\n",
       "      <th>10</th>\n",
       "      <td>Dodge Charger R/T</td>\n",
       "      <td>2021</td>\n",
       "      <td>32,523 mi.</td>\n",
       "      <td>$44,000</td>\n",
       "      <td>4.9</td>\n",
       "      <td>431</td>\n",
       "      <td>Classic of Cleburne Chevrolet/Buick/GMC</td>\n",
       "    </tr>\n",
       "    <tr>\n",
       "      <th>11</th>\n",
       "      <td>Dodge Durango R/T</td>\n",
       "      <td>2018</td>\n",
       "      <td>32,634 mi.</td>\n",
       "      <td>$43,695</td>\n",
       "      <td>4.6</td>\n",
       "      <td>502</td>\n",
       "      <td>MINI of Las Vegas</td>\n",
       "    </tr>\n",
       "    <tr>\n",
       "      <th>12</th>\n",
       "      <td>Dodge Durango Limited</td>\n",
       "      <td>2015</td>\n",
       "      <td>87,561 mi.</td>\n",
       "      <td>$24,497</td>\n",
       "      <td>4.6</td>\n",
       "      <td>436</td>\n",
       "      <td>Ewald Chrysler Jeep Dodge RAM</td>\n",
       "    </tr>\n",
       "    <tr>\n",
       "      <th>13</th>\n",
       "      <td>Dodge Journey SXT</td>\n",
       "      <td>2010</td>\n",
       "      <td>93,300 mi.</td>\n",
       "      <td>$7,250</td>\n",
       "      <td>None</td>\n",
       "      <td>None</td>\n",
       "      <td>None</td>\n",
       "    </tr>\n",
       "    <tr>\n",
       "      <th>14</th>\n",
       "      <td>Dodge Challenger SRT Hellcat</td>\n",
       "      <td>2015</td>\n",
       "      <td>60,120 mi.</td>\n",
       "      <td>$54,309</td>\n",
       "      <td>4.6</td>\n",
       "      <td>1,337</td>\n",
       "      <td>Loveland Ford Lincoln</td>\n",
       "    </tr>\n",
       "    <tr>\n",
       "      <th>15</th>\n",
       "      <td>Dodge Challenger R/T</td>\n",
       "      <td>2017</td>\n",
       "      <td>81,773 mi.</td>\n",
       "      <td>$26,995</td>\n",
       "      <td>4.4</td>\n",
       "      <td>872</td>\n",
       "      <td>Axis Motorcars</td>\n",
       "    </tr>\n",
       "    <tr>\n",
       "      <th>16</th>\n",
       "      <td>Dodge Charger Scat Pack</td>\n",
       "      <td>2020</td>\n",
       "      <td>14,787 mi.</td>\n",
       "      <td>$55,888</td>\n",
       "      <td>4.7</td>\n",
       "      <td>97</td>\n",
       "      <td>Schumacher Lincoln of Delray</td>\n",
       "    </tr>\n",
       "    <tr>\n",
       "      <th>17</th>\n",
       "      <td>Dodge Charger SRT Hellcat</td>\n",
       "      <td>2019</td>\n",
       "      <td>16,157 mi.</td>\n",
       "      <td>$57,888</td>\n",
       "      <td>4.7</td>\n",
       "      <td>147</td>\n",
       "      <td>Auto Buying Service</td>\n",
       "    </tr>\n",
       "    <tr>\n",
       "      <th>18</th>\n",
       "      <td>Dodge Challenger SXT</td>\n",
       "      <td>2019</td>\n",
       "      <td>6,350 mi.</td>\n",
       "      <td>$30,997</td>\n",
       "      <td>4.7</td>\n",
       "      <td>259</td>\n",
       "      <td>CardinaleWay Mazda- Las Vegas</td>\n",
       "    </tr>\n",
       "  </tbody>\n",
       "</table>\n",
       "</div>"
      ],
      "text/plain": [
       "                              Name  Year      Mileage    Price Rating  \\\n",
       "0   Dodge Challenger R/T Scat Pack  2020    2,553 mi.  $50,987    4.8   \n",
       "1                Dodge Charger SXT  2016  134,734 mi.  $16,493    3.9   \n",
       "2             Dodge Challenger SXT  2019   32,977 mi.  $25,000    4.6   \n",
       "3            Dodge Charger SRT 392  2018   34,171 mi.  $49,990    4.2   \n",
       "4          Dodge Charger Scat Pack  2020   34,880 mi.  $49,999    4.7   \n",
       "5                 Dodge Durango GT  2018   32,733 mi.  $38,662    4.5   \n",
       "6                 Dodge Durango GT  2018   61,902 mi.  $35,490    4.8   \n",
       "7                Dodge Durango R/T  2021   14,238 mi.  $51,995    4.9   \n",
       "8                Dodge Durango R/T  2021   15,672 mi.  $50,995    4.9   \n",
       "9   Dodge Challenger R/T Scat Pack  2019   27,663 mi.  $46,964    4.5   \n",
       "10               Dodge Charger R/T  2021   32,523 mi.  $44,000    4.9   \n",
       "11               Dodge Durango R/T  2018   32,634 mi.  $43,695    4.6   \n",
       "12           Dodge Durango Limited  2015   87,561 mi.  $24,497    4.6   \n",
       "13               Dodge Journey SXT  2010   93,300 mi.   $7,250   None   \n",
       "14    Dodge Challenger SRT Hellcat  2015   60,120 mi.  $54,309    4.6   \n",
       "15            Dodge Challenger R/T  2017   81,773 mi.  $26,995    4.4   \n",
       "16         Dodge Charger Scat Pack  2020   14,787 mi.  $55,888    4.7   \n",
       "17       Dodge Charger SRT Hellcat  2019   16,157 mi.  $57,888    4.7   \n",
       "18            Dodge Challenger SXT  2019    6,350 mi.  $30,997    4.7   \n",
       "\n",
       "   Reviews Count                                     Car Dealer  \n",
       "0            532                                  Bolles Motors  \n",
       "1            121                         AutoNation USA Houston  \n",
       "2            284                            AutoSavvy Las Vegas  \n",
       "3          8,995        Carvana-Touchless Delivery To Your Home  \n",
       "4            306                              Apollo Auto Sales  \n",
       "5            138  Fitzgerald Chrysler Dodge Jeep RAM Hagerstown  \n",
       "6          3,300                     Champion Chevrolet of Avon  \n",
       "7            359                              AMG Auto Route 35  \n",
       "8            359                              AMG Auto Route 35  \n",
       "9            111                               Ron Tonkin Mazda  \n",
       "10           431        Classic of Cleburne Chevrolet/Buick/GMC  \n",
       "11           502                              MINI of Las Vegas  \n",
       "12           436                  Ewald Chrysler Jeep Dodge RAM  \n",
       "13          None                                           None  \n",
       "14         1,337                          Loveland Ford Lincoln  \n",
       "15           872                                 Axis Motorcars  \n",
       "16            97                   Schumacher Lincoln of Delray  \n",
       "17           147                            Auto Buying Service  \n",
       "18           259                  CardinaleWay Mazda- Las Vegas  "
      ]
     },
     "execution_count": 16,
     "metadata": {},
     "output_type": "execute_result"
    }
   ],
   "source": [
    "firts_page = pd.DataFrame({'Name': name,\n",
    "                           'Year': year,\n",
    "                           'Mileage': mileage,\n",
    "                           'Price': price,\n",
    "                           'Rating': rating,\n",
    "                           'Reviews Count': reviews_count,\n",
    "                           'Car Dealer': dealer})\n",
    "firts_page"
   ]
  },
  {
   "cell_type": "markdown",
   "id": "762efd86",
   "metadata": {},
   "source": [
    "### The logic applied above is suitable for getting data from one page only. Now let's build another loop to scrape the data from multiple pages."
   ]
  },
  {
   "cell_type": "code",
   "execution_count": 17,
   "id": "60ab6374",
   "metadata": {},
   "outputs": [],
   "source": [
    "# Target data variables\n",
    "name = []\n",
    "year = []\n",
    "mileage = []\n",
    "price = []\n",
    "rating = []\n",
    "reviews_count = []\n",
    "dealer = []\n",
    "\n",
    "for i in range(1, 15):\n",
    "    # website variable \n",
    "    website = f'https://www.cars.com/shopping/results/?page={str(i)}&page_size=20&dealer_id=&keyword=&list_price_max=&list_price_min=&makes[]=dodge&maximum_distance=20&mileage_max=&sort=best_match_desc&stock_type=all&year_max=&year_min=&zip='\n",
    "    # making a request\n",
    "    response = requests.get(website)\n",
    "    # creating a soup object\n",
    "    soup = BeautifulSoup(response.content, 'html.parser')\n",
    "    results = soup.find_all('div', {'class':'vehicle-card'})\n",
    "\n",
    "    for result in results:\n",
    "        # name\n",
    "        try:\n",
    "            name.append(result.find('h2').get_text()[5:])\n",
    "        except:\n",
    "            name.append(None)\n",
    "        # year\n",
    "        try:\n",
    "            year.append(result.find('h2').get_text()[:4])\n",
    "        except:\n",
    "            year.append(None)\n",
    "        # mileage\n",
    "        try:\n",
    "            mileage.append(result.find('div', {'class':'mileage'}).get_text())\n",
    "        except:\n",
    "            mileage.append(None)\n",
    "        # price\n",
    "        try:\n",
    "            price.append(result.find('span', {'class':'primary-price'}).get_text())\n",
    "        except:\n",
    "            price.append(None)\n",
    "        # rating\n",
    "        try:\n",
    "            rating.append(result.find('span', {'class':'sds-rating__count'}).get_text()) \n",
    "        except:\n",
    "            rating.append(None)\n",
    "        # reviews count\n",
    "        try:\n",
    "            reviews_count.append(result.find('span', {'class':'sds-rating__link'}).get_text().replace('(',\"\").replace(' reviews)',\"\").replace(' review)',\"\"))\n",
    "        except:\n",
    "            reviews_count.append(None)\n",
    "        # dealer name\n",
    "        try:\n",
    "            dealer.append(result.find('div', {'class':'dealer-name'}).get_text().replace('\\n', \"\"))\n",
    "        except:\n",
    "            dealer.append(None)"
   ]
  },
  {
   "cell_type": "code",
   "execution_count": 140,
   "id": "3dc99863",
   "metadata": {},
   "outputs": [
    {
     "data": {
      "text/html": [
       "<div>\n",
       "<style scoped>\n",
       "    .dataframe tbody tr th:only-of-type {\n",
       "        vertical-align: middle;\n",
       "    }\n",
       "\n",
       "    .dataframe tbody tr th {\n",
       "        vertical-align: top;\n",
       "    }\n",
       "\n",
       "    .dataframe thead th {\n",
       "        text-align: right;\n",
       "    }\n",
       "</style>\n",
       "<table border=\"1\" class=\"dataframe\">\n",
       "  <thead>\n",
       "    <tr style=\"text-align: right;\">\n",
       "      <th></th>\n",
       "      <th>Name</th>\n",
       "      <th>Year</th>\n",
       "      <th>Mileage</th>\n",
       "      <th>Price</th>\n",
       "      <th>Rating</th>\n",
       "      <th>Reviews Count</th>\n",
       "      <th>Car Dealer</th>\n",
       "    </tr>\n",
       "  </thead>\n",
       "  <tbody>\n",
       "    <tr>\n",
       "      <th>0</th>\n",
       "      <td>Dodge Challenger R/T Scat Pack</td>\n",
       "      <td>2020</td>\n",
       "      <td>2,553 mi.</td>\n",
       "      <td>$50,987</td>\n",
       "      <td>4.8</td>\n",
       "      <td>532</td>\n",
       "      <td>Bolles Motors</td>\n",
       "    </tr>\n",
       "    <tr>\n",
       "      <th>1</th>\n",
       "      <td>Dodge Charger SXT</td>\n",
       "      <td>2016</td>\n",
       "      <td>134,734 mi.</td>\n",
       "      <td>$16,493</td>\n",
       "      <td>3.9</td>\n",
       "      <td>121</td>\n",
       "      <td>AutoNation USA Houston</td>\n",
       "    </tr>\n",
       "    <tr>\n",
       "      <th>2</th>\n",
       "      <td>Dodge Challenger SXT</td>\n",
       "      <td>2019</td>\n",
       "      <td>32,977 mi.</td>\n",
       "      <td>$25,000</td>\n",
       "      <td>4.6</td>\n",
       "      <td>284</td>\n",
       "      <td>AutoSavvy Las Vegas</td>\n",
       "    </tr>\n",
       "    <tr>\n",
       "      <th>3</th>\n",
       "      <td>Dodge Charger SRT 392</td>\n",
       "      <td>2018</td>\n",
       "      <td>34,171 mi.</td>\n",
       "      <td>$49,990</td>\n",
       "      <td>4.2</td>\n",
       "      <td>8,995</td>\n",
       "      <td>Carvana-Touchless Delivery To Your Home</td>\n",
       "    </tr>\n",
       "    <tr>\n",
       "      <th>4</th>\n",
       "      <td>Dodge Charger Scat Pack</td>\n",
       "      <td>2020</td>\n",
       "      <td>34,880 mi.</td>\n",
       "      <td>$49,999</td>\n",
       "      <td>4.7</td>\n",
       "      <td>306</td>\n",
       "      <td>Apollo Auto Sales</td>\n",
       "    </tr>\n",
       "    <tr>\n",
       "      <th>...</th>\n",
       "      <td>...</td>\n",
       "      <td>...</td>\n",
       "      <td>...</td>\n",
       "      <td>...</td>\n",
       "      <td>...</td>\n",
       "      <td>...</td>\n",
       "      <td>...</td>\n",
       "    </tr>\n",
       "    <tr>\n",
       "      <th>273</th>\n",
       "      <td>Dodge Durango GT</td>\n",
       "      <td>2018</td>\n",
       "      <td>33,088 mi.</td>\n",
       "      <td>$31,895</td>\n",
       "      <td>3.6</td>\n",
       "      <td>11</td>\n",
       "      <td>Serpentini Chevrolet Westlake</td>\n",
       "    </tr>\n",
       "    <tr>\n",
       "      <th>274</th>\n",
       "      <td>Dodge Charger SXT</td>\n",
       "      <td>2020</td>\n",
       "      <td>17,595 mi.</td>\n",
       "      <td>$29,991</td>\n",
       "      <td>4.4</td>\n",
       "      <td>1,721</td>\n",
       "      <td>Greenville Chrysler</td>\n",
       "    </tr>\n",
       "    <tr>\n",
       "      <th>275</th>\n",
       "      <td>Dodge Journey Crossroad</td>\n",
       "      <td>2020</td>\n",
       "      <td>50,124 mi.</td>\n",
       "      <td>$24,277</td>\n",
       "      <td>4.3</td>\n",
       "      <td>119</td>\n",
       "      <td>Tim Short Chrysler Dodge Jeep Ram Ford</td>\n",
       "    </tr>\n",
       "    <tr>\n",
       "      <th>276</th>\n",
       "      <td>Dodge Charger SXT</td>\n",
       "      <td>2019</td>\n",
       "      <td>64,439 mi.</td>\n",
       "      <td>$29,631</td>\n",
       "      <td>4.7</td>\n",
       "      <td>1,785</td>\n",
       "      <td>Rountree Moore Toyota</td>\n",
       "    </tr>\n",
       "    <tr>\n",
       "      <th>277</th>\n",
       "      <td>Dodge Durango R/T</td>\n",
       "      <td>2018</td>\n",
       "      <td>21,490 mi.</td>\n",
       "      <td>$45,658</td>\n",
       "      <td>5.0</td>\n",
       "      <td>1</td>\n",
       "      <td>Sheehy Volkswagen of Hagerstown</td>\n",
       "    </tr>\n",
       "  </tbody>\n",
       "</table>\n",
       "<p>278 rows × 7 columns</p>\n",
       "</div>"
      ],
      "text/plain": [
       "                               Name  Year      Mileage    Price Rating  \\\n",
       "0    Dodge Challenger R/T Scat Pack  2020    2,553 mi.  $50,987    4.8   \n",
       "1                 Dodge Charger SXT  2016  134,734 mi.  $16,493    3.9   \n",
       "2              Dodge Challenger SXT  2019   32,977 mi.  $25,000    4.6   \n",
       "3             Dodge Charger SRT 392  2018   34,171 mi.  $49,990    4.2   \n",
       "4           Dodge Charger Scat Pack  2020   34,880 mi.  $49,999    4.7   \n",
       "..                              ...   ...          ...      ...    ...   \n",
       "273                Dodge Durango GT  2018   33,088 mi.  $31,895    3.6   \n",
       "274               Dodge Charger SXT  2020   17,595 mi.  $29,991    4.4   \n",
       "275         Dodge Journey Crossroad  2020   50,124 mi.  $24,277    4.3   \n",
       "276               Dodge Charger SXT  2019   64,439 mi.  $29,631    4.7   \n",
       "277               Dodge Durango R/T  2018   21,490 mi.  $45,658    5.0   \n",
       "\n",
       "    Reviews Count                               Car Dealer  \n",
       "0             532                            Bolles Motors  \n",
       "1             121                   AutoNation USA Houston  \n",
       "2             284                      AutoSavvy Las Vegas  \n",
       "3           8,995  Carvana-Touchless Delivery To Your Home  \n",
       "4             306                        Apollo Auto Sales  \n",
       "..            ...                                      ...  \n",
       "273            11            Serpentini Chevrolet Westlake  \n",
       "274         1,721                      Greenville Chrysler  \n",
       "275           119   Tim Short Chrysler Dodge Jeep Ram Ford  \n",
       "276         1,785                    Rountree Moore Toyota  \n",
       "277             1          Sheehy Volkswagen of Hagerstown  \n",
       "\n",
       "[278 rows x 7 columns]"
      ]
     },
     "execution_count": 140,
     "metadata": {},
     "output_type": "execute_result"
    }
   ],
   "source": [
    "data = pd.DataFrame({'Name': name,\n",
    "                     'Year': year,\n",
    "                     'Mileage': mileage,\n",
    "                     'Price': price,\n",
    "                     'Rating': rating,\n",
    "                     'Reviews Count': reviews_count,\n",
    "                     'Car Dealer': dealer})\n",
    "data"
   ]
  },
  {
   "cell_type": "markdown",
   "id": "bf416c24",
   "metadata": {},
   "source": [
    "### Data cleaning "
   ]
  },
  {
   "cell_type": "markdown",
   "id": "416b1fd1",
   "metadata": {},
   "source": [
    "#### Turning object values to numerical"
   ]
  },
  {
   "cell_type": "code",
   "execution_count": 141,
   "id": "c7544811",
   "metadata": {},
   "outputs": [
    {
     "data": {
      "text/html": [
       "<div>\n",
       "<style scoped>\n",
       "    .dataframe tbody tr th:only-of-type {\n",
       "        vertical-align: middle;\n",
       "    }\n",
       "\n",
       "    .dataframe tbody tr th {\n",
       "        vertical-align: top;\n",
       "    }\n",
       "\n",
       "    .dataframe thead th {\n",
       "        text-align: right;\n",
       "    }\n",
       "</style>\n",
       "<table border=\"1\" class=\"dataframe\">\n",
       "  <thead>\n",
       "    <tr style=\"text-align: right;\">\n",
       "      <th></th>\n",
       "      <th>Name</th>\n",
       "      <th>Year</th>\n",
       "      <th>Mileage</th>\n",
       "      <th>Price in USD</th>\n",
       "      <th>Rating</th>\n",
       "      <th>Reviews Count</th>\n",
       "      <th>Car Dealer</th>\n",
       "    </tr>\n",
       "  </thead>\n",
       "  <tbody>\n",
       "    <tr>\n",
       "      <th>0</th>\n",
       "      <td>Dodge Challenger R/T Scat Pack</td>\n",
       "      <td>2020</td>\n",
       "      <td>2,553 mi.</td>\n",
       "      <td>50987</td>\n",
       "      <td>4.8</td>\n",
       "      <td>532</td>\n",
       "      <td>Bolles Motors</td>\n",
       "    </tr>\n",
       "    <tr>\n",
       "      <th>1</th>\n",
       "      <td>Dodge Charger SXT</td>\n",
       "      <td>2016</td>\n",
       "      <td>134,734 mi.</td>\n",
       "      <td>16493</td>\n",
       "      <td>3.9</td>\n",
       "      <td>121</td>\n",
       "      <td>AutoNation USA Houston</td>\n",
       "    </tr>\n",
       "    <tr>\n",
       "      <th>2</th>\n",
       "      <td>Dodge Challenger SXT</td>\n",
       "      <td>2019</td>\n",
       "      <td>32,977 mi.</td>\n",
       "      <td>25000</td>\n",
       "      <td>4.6</td>\n",
       "      <td>284</td>\n",
       "      <td>AutoSavvy Las Vegas</td>\n",
       "    </tr>\n",
       "    <tr>\n",
       "      <th>3</th>\n",
       "      <td>Dodge Charger SRT 392</td>\n",
       "      <td>2018</td>\n",
       "      <td>34,171 mi.</td>\n",
       "      <td>49990</td>\n",
       "      <td>4.2</td>\n",
       "      <td>8,995</td>\n",
       "      <td>Carvana-Touchless Delivery To Your Home</td>\n",
       "    </tr>\n",
       "    <tr>\n",
       "      <th>4</th>\n",
       "      <td>Dodge Charger Scat Pack</td>\n",
       "      <td>2020</td>\n",
       "      <td>34,880 mi.</td>\n",
       "      <td>49999</td>\n",
       "      <td>4.7</td>\n",
       "      <td>306</td>\n",
       "      <td>Apollo Auto Sales</td>\n",
       "    </tr>\n",
       "    <tr>\n",
       "      <th>...</th>\n",
       "      <td>...</td>\n",
       "      <td>...</td>\n",
       "      <td>...</td>\n",
       "      <td>...</td>\n",
       "      <td>...</td>\n",
       "      <td>...</td>\n",
       "      <td>...</td>\n",
       "    </tr>\n",
       "    <tr>\n",
       "      <th>273</th>\n",
       "      <td>Dodge Durango GT</td>\n",
       "      <td>2018</td>\n",
       "      <td>33,088 mi.</td>\n",
       "      <td>31895</td>\n",
       "      <td>3.6</td>\n",
       "      <td>11</td>\n",
       "      <td>Serpentini Chevrolet Westlake</td>\n",
       "    </tr>\n",
       "    <tr>\n",
       "      <th>274</th>\n",
       "      <td>Dodge Charger SXT</td>\n",
       "      <td>2020</td>\n",
       "      <td>17,595 mi.</td>\n",
       "      <td>29991</td>\n",
       "      <td>4.4</td>\n",
       "      <td>1,721</td>\n",
       "      <td>Greenville Chrysler</td>\n",
       "    </tr>\n",
       "    <tr>\n",
       "      <th>275</th>\n",
       "      <td>Dodge Journey Crossroad</td>\n",
       "      <td>2020</td>\n",
       "      <td>50,124 mi.</td>\n",
       "      <td>24277</td>\n",
       "      <td>4.3</td>\n",
       "      <td>119</td>\n",
       "      <td>Tim Short Chrysler Dodge Jeep Ram Ford</td>\n",
       "    </tr>\n",
       "    <tr>\n",
       "      <th>276</th>\n",
       "      <td>Dodge Charger SXT</td>\n",
       "      <td>2019</td>\n",
       "      <td>64,439 mi.</td>\n",
       "      <td>29631</td>\n",
       "      <td>4.7</td>\n",
       "      <td>1,785</td>\n",
       "      <td>Rountree Moore Toyota</td>\n",
       "    </tr>\n",
       "    <tr>\n",
       "      <th>277</th>\n",
       "      <td>Dodge Durango R/T</td>\n",
       "      <td>2018</td>\n",
       "      <td>21,490 mi.</td>\n",
       "      <td>45658</td>\n",
       "      <td>5.0</td>\n",
       "      <td>1</td>\n",
       "      <td>Sheehy Volkswagen of Hagerstown</td>\n",
       "    </tr>\n",
       "  </tbody>\n",
       "</table>\n",
       "<p>278 rows × 7 columns</p>\n",
       "</div>"
      ],
      "text/plain": [
       "                               Name  Year      Mileage  Price in USD Rating  \\\n",
       "0    Dodge Challenger R/T Scat Pack  2020    2,553 mi.         50987    4.8   \n",
       "1                 Dodge Charger SXT  2016  134,734 mi.         16493    3.9   \n",
       "2              Dodge Challenger SXT  2019   32,977 mi.         25000    4.6   \n",
       "3             Dodge Charger SRT 392  2018   34,171 mi.         49990    4.2   \n",
       "4           Dodge Charger Scat Pack  2020   34,880 mi.         49999    4.7   \n",
       "..                              ...   ...          ...           ...    ...   \n",
       "273                Dodge Durango GT  2018   33,088 mi.         31895    3.6   \n",
       "274               Dodge Charger SXT  2020   17,595 mi.         29991    4.4   \n",
       "275         Dodge Journey Crossroad  2020   50,124 mi.         24277    4.3   \n",
       "276               Dodge Charger SXT  2019   64,439 mi.         29631    4.7   \n",
       "277               Dodge Durango R/T  2018   21,490 mi.         45658    5.0   \n",
       "\n",
       "    Reviews Count                               Car Dealer  \n",
       "0             532                            Bolles Motors  \n",
       "1             121                   AutoNation USA Houston  \n",
       "2             284                      AutoSavvy Las Vegas  \n",
       "3           8,995  Carvana-Touchless Delivery To Your Home  \n",
       "4             306                        Apollo Auto Sales  \n",
       "..            ...                                      ...  \n",
       "273            11            Serpentini Chevrolet Westlake  \n",
       "274         1,721                      Greenville Chrysler  \n",
       "275           119   Tim Short Chrysler Dodge Jeep Ram Ford  \n",
       "276         1,785                    Rountree Moore Toyota  \n",
       "277             1          Sheehy Volkswagen of Hagerstown  \n",
       "\n",
       "[278 rows x 7 columns]"
      ]
     },
     "execution_count": 141,
     "metadata": {},
     "output_type": "execute_result"
    }
   ],
   "source": [
    "data['Price'] = data['Price'].str.replace('$', '', regex=True)\n",
    "data['Price'] = data['Price'].str.replace(',', '', regex=True)\n",
    "data['Price'] = data['Price'].astype('int64')\n",
    "data.rename(columns={'Price':'Price in USD'}, inplace=True)\n",
    "\n",
    "data"
   ]
  },
  {
   "cell_type": "code",
   "execution_count": 142,
   "id": "ec8ee913",
   "metadata": {},
   "outputs": [
    {
     "data": {
      "text/plain": [
       "Name             object\n",
       "Year             object\n",
       "Mileage          object\n",
       "Price in USD      int64\n",
       "Rating           object\n",
       "Reviews Count    object\n",
       "Car Dealer       object\n",
       "dtype: object"
      ]
     },
     "execution_count": 142,
     "metadata": {},
     "output_type": "execute_result"
    }
   ],
   "source": [
    "data.dtypes"
   ]
  },
  {
   "cell_type": "code",
   "execution_count": 143,
   "id": "723b9077",
   "metadata": {},
   "outputs": [],
   "source": [
    "data['Year'] = data['Year'].astype('int64')"
   ]
  },
  {
   "cell_type": "code",
   "execution_count": 144,
   "id": "605725ba",
   "metadata": {},
   "outputs": [
    {
     "data": {
      "text/html": [
       "<div>\n",
       "<style scoped>\n",
       "    .dataframe tbody tr th:only-of-type {\n",
       "        vertical-align: middle;\n",
       "    }\n",
       "\n",
       "    .dataframe tbody tr th {\n",
       "        vertical-align: top;\n",
       "    }\n",
       "\n",
       "    .dataframe thead th {\n",
       "        text-align: right;\n",
       "    }\n",
       "</style>\n",
       "<table border=\"1\" class=\"dataframe\">\n",
       "  <thead>\n",
       "    <tr style=\"text-align: right;\">\n",
       "      <th></th>\n",
       "      <th>Name</th>\n",
       "      <th>Year</th>\n",
       "      <th>Mileage in mi.</th>\n",
       "      <th>Price in USD</th>\n",
       "      <th>Rating</th>\n",
       "      <th>Reviews Count</th>\n",
       "      <th>Car Dealer</th>\n",
       "    </tr>\n",
       "  </thead>\n",
       "  <tbody>\n",
       "    <tr>\n",
       "      <th>0</th>\n",
       "      <td>Dodge Challenger R/T Scat Pack</td>\n",
       "      <td>2020</td>\n",
       "      <td>2.553</td>\n",
       "      <td>50987</td>\n",
       "      <td>4.8</td>\n",
       "      <td>532</td>\n",
       "      <td>Bolles Motors</td>\n",
       "    </tr>\n",
       "    <tr>\n",
       "      <th>1</th>\n",
       "      <td>Dodge Charger SXT</td>\n",
       "      <td>2016</td>\n",
       "      <td>134.734</td>\n",
       "      <td>16493</td>\n",
       "      <td>3.9</td>\n",
       "      <td>121</td>\n",
       "      <td>AutoNation USA Houston</td>\n",
       "    </tr>\n",
       "    <tr>\n",
       "      <th>2</th>\n",
       "      <td>Dodge Challenger SXT</td>\n",
       "      <td>2019</td>\n",
       "      <td>32.977</td>\n",
       "      <td>25000</td>\n",
       "      <td>4.6</td>\n",
       "      <td>284</td>\n",
       "      <td>AutoSavvy Las Vegas</td>\n",
       "    </tr>\n",
       "    <tr>\n",
       "      <th>3</th>\n",
       "      <td>Dodge Charger SRT 392</td>\n",
       "      <td>2018</td>\n",
       "      <td>34.171</td>\n",
       "      <td>49990</td>\n",
       "      <td>4.2</td>\n",
       "      <td>8,995</td>\n",
       "      <td>Carvana-Touchless Delivery To Your Home</td>\n",
       "    </tr>\n",
       "    <tr>\n",
       "      <th>4</th>\n",
       "      <td>Dodge Charger Scat Pack</td>\n",
       "      <td>2020</td>\n",
       "      <td>34.880</td>\n",
       "      <td>49999</td>\n",
       "      <td>4.7</td>\n",
       "      <td>306</td>\n",
       "      <td>Apollo Auto Sales</td>\n",
       "    </tr>\n",
       "  </tbody>\n",
       "</table>\n",
       "</div>"
      ],
      "text/plain": [
       "                             Name  Year  Mileage in mi.  Price in USD Rating  \\\n",
       "0  Dodge Challenger R/T Scat Pack  2020           2.553         50987    4.8   \n",
       "1               Dodge Charger SXT  2016         134.734         16493    3.9   \n",
       "2            Dodge Challenger SXT  2019          32.977         25000    4.6   \n",
       "3           Dodge Charger SRT 392  2018          34.171         49990    4.2   \n",
       "4         Dodge Charger Scat Pack  2020          34.880         49999    4.7   \n",
       "\n",
       "  Reviews Count                               Car Dealer  \n",
       "0           532                            Bolles Motors  \n",
       "1           121                   AutoNation USA Houston  \n",
       "2           284                      AutoSavvy Las Vegas  \n",
       "3         8,995  Carvana-Touchless Delivery To Your Home  \n",
       "4           306                        Apollo Auto Sales  "
      ]
     },
     "execution_count": 144,
     "metadata": {},
     "output_type": "execute_result"
    }
   ],
   "source": [
    "data['Mileage'] = data['Mileage'].replace(' mi.', \"\", regex=True)\n",
    "data['Mileage'] = data['Mileage'].replace(',', '.', regex=True)\n",
    "data['Mileage'] = data['Mileage'].astype('float64')\n",
    "data.rename(columns={'Mileage':'Mileage in mi.'}, inplace=True)\n",
    "data.head()"
   ]
  },
  {
   "cell_type": "code",
   "execution_count": 145,
   "id": "b9c2947a",
   "metadata": {},
   "outputs": [
    {
     "data": {
      "text/plain": [
       "Name               object\n",
       "Year                int64\n",
       "Mileage in mi.    float64\n",
       "Price in USD        int64\n",
       "Rating             object\n",
       "Reviews Count      object\n",
       "Car Dealer         object\n",
       "dtype: object"
      ]
     },
     "execution_count": 145,
     "metadata": {},
     "output_type": "execute_result"
    }
   ],
   "source": [
    "data.dtypes"
   ]
  },
  {
   "cell_type": "code",
   "execution_count": 146,
   "id": "00543c28",
   "metadata": {},
   "outputs": [
    {
     "data": {
      "text/plain": [
       "array(['4.8', '3.9', '4.6', '4.2', '4.7', '4.5', '4.9', None, '4.4',\n",
       "       '3.7', '3.6', '4.1', '4.3', '4.0', '2.0', '3.5', '2.1', '1.8',\n",
       "       '5.0', '3.2', '3.8', '3.1', '1.6', '3.3', '2.2', '3.4', '3.0'],\n",
       "      dtype=object)"
      ]
     },
     "execution_count": 146,
     "metadata": {},
     "output_type": "execute_result"
    }
   ],
   "source": [
    "data.Rating.unique()"
   ]
  },
  {
   "cell_type": "markdown",
   "id": "b8ef4e76",
   "metadata": {},
   "source": [
    "#### Dropping rows with NaN values"
   ]
  },
  {
   "cell_type": "code",
   "execution_count": 147,
   "id": "6fad4034",
   "metadata": {},
   "outputs": [],
   "source": [
    "data = data.dropna(axis=0)"
   ]
  },
  {
   "cell_type": "code",
   "execution_count": 148,
   "id": "35b5a3b3",
   "metadata": {},
   "outputs": [],
   "source": [
    "import warnings\n",
    "warnings.filterwarnings('ignore')\n",
    "\n",
    "data.Rating = data.Rating.astype('float64')\n",
    "data['Reviews Count'] = data['Reviews Count'].replace(',', '', regex=True)\n",
    "data['Reviews Count'] = data['Reviews Count'].astype('int64')"
   ]
  },
  {
   "cell_type": "code",
   "execution_count": 149,
   "id": "6f6d88f4",
   "metadata": {},
   "outputs": [
    {
     "data": {
      "text/plain": [
       "Name               object\n",
       "Year                int64\n",
       "Mileage in mi.    float64\n",
       "Price in USD        int64\n",
       "Rating            float64\n",
       "Reviews Count       int64\n",
       "Car Dealer         object\n",
       "dtype: object"
      ]
     },
     "execution_count": 149,
     "metadata": {},
     "output_type": "execute_result"
    }
   ],
   "source": [
    "data.dtypes"
   ]
  },
  {
   "cell_type": "code",
   "execution_count": 150,
   "id": "19fe22b5",
   "metadata": {
    "scrolled": true
   },
   "outputs": [
    {
     "data": {
      "text/html": [
       "<div>\n",
       "<style scoped>\n",
       "    .dataframe tbody tr th:only-of-type {\n",
       "        vertical-align: middle;\n",
       "    }\n",
       "\n",
       "    .dataframe tbody tr th {\n",
       "        vertical-align: top;\n",
       "    }\n",
       "\n",
       "    .dataframe thead th {\n",
       "        text-align: right;\n",
       "    }\n",
       "</style>\n",
       "<table border=\"1\" class=\"dataframe\">\n",
       "  <thead>\n",
       "    <tr style=\"text-align: right;\">\n",
       "      <th></th>\n",
       "      <th>Name</th>\n",
       "      <th>Year</th>\n",
       "      <th>Mileage in mi.</th>\n",
       "      <th>Price in USD</th>\n",
       "      <th>Rating</th>\n",
       "      <th>Reviews Count</th>\n",
       "      <th>Car Dealer</th>\n",
       "    </tr>\n",
       "  </thead>\n",
       "  <tbody>\n",
       "    <tr>\n",
       "      <th>0</th>\n",
       "      <td>Dodge Challenger R/T Scat Pack</td>\n",
       "      <td>2020</td>\n",
       "      <td>2.553</td>\n",
       "      <td>50987</td>\n",
       "      <td>4.8</td>\n",
       "      <td>532</td>\n",
       "      <td>Bolles Motors</td>\n",
       "    </tr>\n",
       "    <tr>\n",
       "      <th>1</th>\n",
       "      <td>Dodge Charger SXT</td>\n",
       "      <td>2016</td>\n",
       "      <td>134.734</td>\n",
       "      <td>16493</td>\n",
       "      <td>3.9</td>\n",
       "      <td>121</td>\n",
       "      <td>AutoNation USA Houston</td>\n",
       "    </tr>\n",
       "    <tr>\n",
       "      <th>2</th>\n",
       "      <td>Dodge Challenger SXT</td>\n",
       "      <td>2019</td>\n",
       "      <td>32.977</td>\n",
       "      <td>25000</td>\n",
       "      <td>4.6</td>\n",
       "      <td>284</td>\n",
       "      <td>AutoSavvy Las Vegas</td>\n",
       "    </tr>\n",
       "    <tr>\n",
       "      <th>3</th>\n",
       "      <td>Dodge Charger SRT 392</td>\n",
       "      <td>2018</td>\n",
       "      <td>34.171</td>\n",
       "      <td>49990</td>\n",
       "      <td>4.2</td>\n",
       "      <td>8995</td>\n",
       "      <td>Carvana-Touchless Delivery To Your Home</td>\n",
       "    </tr>\n",
       "    <tr>\n",
       "      <th>4</th>\n",
       "      <td>Dodge Charger Scat Pack</td>\n",
       "      <td>2020</td>\n",
       "      <td>34.880</td>\n",
       "      <td>49999</td>\n",
       "      <td>4.7</td>\n",
       "      <td>306</td>\n",
       "      <td>Apollo Auto Sales</td>\n",
       "    </tr>\n",
       "  </tbody>\n",
       "</table>\n",
       "</div>"
      ],
      "text/plain": [
       "                             Name  Year  Mileage in mi.  Price in USD  Rating  \\\n",
       "0  Dodge Challenger R/T Scat Pack  2020           2.553         50987     4.8   \n",
       "1               Dodge Charger SXT  2016         134.734         16493     3.9   \n",
       "2            Dodge Challenger SXT  2019          32.977         25000     4.6   \n",
       "3           Dodge Charger SRT 392  2018          34.171         49990     4.2   \n",
       "4         Dodge Charger Scat Pack  2020          34.880         49999     4.7   \n",
       "\n",
       "   Reviews Count                               Car Dealer  \n",
       "0            532                            Bolles Motors  \n",
       "1            121                   AutoNation USA Houston  \n",
       "2            284                      AutoSavvy Las Vegas  \n",
       "3           8995  Carvana-Touchless Delivery To Your Home  \n",
       "4            306                        Apollo Auto Sales  "
      ]
     },
     "execution_count": 150,
     "metadata": {},
     "output_type": "execute_result"
    }
   ],
   "source": [
    "data.head()"
   ]
  },
  {
   "cell_type": "markdown",
   "id": "e87d8e4f",
   "metadata": {},
   "source": [
    "#### Exporting data to Excel"
   ]
  },
  {
   "cell_type": "code",
   "execution_count": 174,
   "id": "472b0fa8",
   "metadata": {},
   "outputs": [],
   "source": [
    "data.to_excel('cars.xlsx')"
   ]
  },
  {
   "cell_type": "code",
   "execution_count": 151,
   "id": "d95f8611",
   "metadata": {},
   "outputs": [],
   "source": [
    "import matplotlib.pyplot as plt"
   ]
  },
  {
   "cell_type": "code",
   "execution_count": 152,
   "id": "2d043807",
   "metadata": {},
   "outputs": [
    {
     "data": {
      "text/plain": [
       "Text(0.5, 1.0, 'Cars amount by their release years')"
      ]
     },
     "execution_count": 152,
     "metadata": {},
     "output_type": "execute_result"
    },
    {
     "data": {
      "image/png": "[encoded data removed]",
      "text/plain": [
       "<Figure size 936x576 with 1 Axes>"
      ]
     },
     "metadata": {
      "needs_background": "light"
     },
     "output_type": "display_data"
    }
   ],
   "source": [
    "plt.figure(figsize=(13,8))\n",
    "plt.hist(data.Year.sort_values(), color='salmon', edgecolor='black')\n",
    "plt.xlabel('Release year', fontsize=16)\n",
    "plt.ylabel('Amount', fontsize=16)\n",
    "plt.title('Cars amount by their release years', fontsize=20)"
   ]
  },
  {
   "cell_type": "markdown",
   "id": "35ea2feb",
   "metadata": {},
   "source": [
    "#### Visualized correlation matrix"
   ]
  },
  {
   "cell_type": "code",
   "execution_count": 153,
   "id": "d2d224bd",
   "metadata": {
    "scrolled": false
   },
   "outputs": [
    {
     "data": {
      "text/plain": [
       "<AxesSubplot:>"
      ]
     },
     "execution_count": 153,
     "metadata": {},
     "output_type": "execute_result"
    },
    {
     "data": {
      "image/png": "[encoded data removed]",
      "text/plain": [
       "<Figure size 1080x576 with 2 Axes>"
      ]
     },
     "metadata": {
      "needs_background": "light"
     },
     "output_type": "display_data"
    }
   ],
   "source": [
    "import seaborn as sns\n",
    "\n",
    "plt.figure(figsize=(15,8))\n",
    "sns.heatmap(data.corr(), annot=True, linecolor='white', linewidths=.6)"
   ]
  }
 ],
 "metadata": {
  "kernelspec": {
   "display_name": "Python 3 (ipykernel)",
   "language": "python",
   "name": "python3"
  },
  "language_info": {
   "codemirror_mode": {
    "name": "ipython",
    "version": 3
   },
   "file_extension": ".py",
   "mimetype": "text/x-python",
   "name": "python",
   "nbconvert_exporter": "python",
   "pygments_lexer": "ipython3",
   "version": "3.9.1"
  }
 },
 "nbformat": 4,
 "nbformat_minor": 5
}
